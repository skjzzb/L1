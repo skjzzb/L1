{
 "cells": [
  {
   "cell_type": "code",
   "execution_count": null,
   "metadata": {},
   "outputs": [
    {
     "name": "stdout",
     "output_type": "stream",
     "text": [
      ">>> hi\n",
      "hey\n",
      ">>> hey\n",
      "hey!\n",
      ">>> Hi\n",
      "hola\n",
      ">>> hello\n",
      "hola\n",
      ">>> How are you?\n",
      "Okay\n"
     ]
    }
   ],
   "source": [
    "import random\n",
    "\n",
    "greetings = ['hola', 'hello', 'hi', 'Hi', 'hey!','hey']\n",
    "\n",
    "question = ['How are you?','How are you doing?']\n",
    "responses = ['Okay',\"I'm fine\"]\n",
    "\n",
    "while True:\n",
    "        userInput = input(\">>> \")\n",
    "        if userInput in greetings:\n",
    "                random_greeting = random.choice(greetings)\n",
    "                print(random_greeting)\n",
    "        elif userInput in question:\n",
    "                random_response = random.choice(responses)\n",
    "                print(random_response)\n",
    "        else:\n",
    "                print(\"I did not understand what you said\")"
   ]
  },
  {
   "cell_type": "code",
   "execution_count": null,
   "metadata": {},
   "outputs": [],
   "source": []
  },
  {
   "cell_type": "code",
   "execution_count": null,
   "metadata": {},
   "outputs": [],
   "source": []
  },
  {
   "cell_type": "code",
   "execution_count": null,
   "metadata": {},
   "outputs": [],
   "source": []
  }
 ],
 "metadata": {
  "kernelspec": {
   "display_name": "Python 3",
   "language": "python",
   "name": "python3"
  }
 },
 "nbformat": 4,
 "nbformat_minor": 2
}
